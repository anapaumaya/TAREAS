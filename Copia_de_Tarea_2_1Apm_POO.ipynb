{
  "nbformat": 4,
  "nbformat_minor": 0,
  "metadata": {
    "colab": {
      "provenance": []
    },
    "kernelspec": {
      "name": "python3",
      "display_name": "Python 3"
    },
    "language_info": {
      "name": "python"
    }
  },
  "cells": [
    {
      "cell_type": "markdown",
      "source": [
        "#Ana Paula Maya Tarea"
      ],
      "metadata": {
        "id": "zHRPJMTPRgWw"
      }
    },
    {
      "cell_type": "markdown",
      "source": [
        "## Tarea\n",
        "### Instrucciones:\n",
        "\n",
        "\n",
        "*   La tarea se entrega individualmente.\n",
        "*   Leer los lineamientos e instrucciones que se enuentran en Moodle.\n",
        "*   Sube tu Notebook a tu GitHub\n",
        "*  La entrega se hace por Moodle compartiendo tu liga a GitHub.\n",
        "*  Fecha de entrega  **Martes 26 de septiembre antes de las 20:00hrs**\n",
        "*  Si existiera duda alguna, mandarlas por email.\n",
        "\n"
      ],
      "metadata": {
        "id": "-DR7LcQd27OM"
      }
    },
    {
      "cell_type": "markdown",
      "source": [
        "\n",
        "#Parte 1"
      ],
      "metadata": {
        "id": "KiGSU3wF1Sa1"
      }
    },
    {
      "cell_type": "code",
      "source": [
        "# Crea una clase que se llame Animal\n",
        "class Animal ():\n",
        "# define un inicializador que contenga dos argumentos (a y b) que asignarás\n",
        "    def __init__ (self,tamaño,raza):\n",
        "      self.tamaño =tamaño\n",
        "      self.raza=raza\n",
        "\n",
        "# Crea una clase heredada que se llame Mascota\n",
        "class Mascota (Animal):\n",
        "    # usar super(), (objeto temporal de la superclase) nos permite acceder a métodos de la clase madre\n",
        "\n",
        "    # define tres métodos asociados a Mascota\n",
        "    def __init__(self, tamaño, raza):\n",
        "        super()._init_(color, nombre)\n",
        "        \"Escribe código\"\n",
        "\n",
        "    def Nombre (self, nombre):\n",
        "      print(\"Soy un elefante\")"
      ],
      "metadata": {
        "id": "scsnMvfv7MXN"
      },
      "execution_count": 3,
      "outputs": []
    },
    {
      "cell_type": "markdown",
      "source": [
        "##Parte 2"
      ],
      "metadata": {
        "id": "HkqprJUy1Wr4"
      }
    },
    {
      "cell_type": "code",
      "source": [
        "# Crea dos clases que tengan asignados nombres de Países.\n",
        "# Para cada clase, define al menos tres características del País considerado: por ejemplo, capital, idioma, etcétera\n",
        "# Define dos variables que sean cursores\n",
        "\n",
        "for pais in (var1, var2):\n",
        "    pais.???\n",
        "    pais.???\n",
        "    pais.type()\n",
        "\n",
        "# Comenta tus resultados\n"
      ],
      "metadata": {
        "id": "ZielRh0TBBEv",
        "colab": {
          "base_uri": "https://localhost:8080/",
          "height": 141
        },
        "outputId": "b9f90434-ebf4-40d0-d5ab-2a79424d30ba"
      },
      "execution_count": 5,
      "outputs": [
        {
          "output_type": "error",
          "ename": "SyntaxError",
          "evalue": "ignored",
          "traceback": [
            "\u001b[0;36m  File \u001b[0;32m\"<ipython-input-5-054f30d62343>\"\u001b[0;36m, line \u001b[0;32m6\u001b[0m\n\u001b[0;31m    pais.???\u001b[0m\n\u001b[0m         ^\u001b[0m\n\u001b[0;31mSyntaxError\u001b[0m\u001b[0;31m:\u001b[0m invalid syntax\n"
          ]
        }
      ]
    },
    {
      "cell_type": "code",
      "source": [
        "\n",
        "# Crea dos clases que tengan asignados nombres de Países.\n",
        "# Para cada clase, define al menos tres características del País considerado: por ejemplo, capital, idioma, etcétera\n",
        "class España():\n",
        "  def __init__(self, capital, idioma, moneda):\n",
        "    self.capital = capital\n",
        "    self.idioma = idioma\n",
        "    self.moneda = moneda\n",
        "\n",
        "class Ingalterra():\n",
        "  def _init_(self, capital, idioma, moneda):\n",
        "    self.capital = capital\n",
        "    self.idioma = idioma\n",
        "    self.moneda = moneda\n",
        "\n",
        "\n",
        "def EspañaId(self):\n",
        "    print (\"En España se habla español\")\n",
        "\n",
        "def EsapñaCap(self):\n",
        "    print (\"La capital de Esapaña es Madrid\")\n",
        "\n",
        "def Esapñamon(self):\n",
        "    print (\"La moneda de Esapña es el euro\")\n",
        "\n",
        "def InglaterraID(self):\n",
        "    print (\"En Ingalterra se habla inglés\")\n",
        "\n",
        "def InglaterraCap(self):\n",
        "    print (\"La capital de Inglaterra es Londres \")\n",
        "\n",
        "def Inglaterramon(self):\n",
        "    print (\"La moneda de Inglaterra es la libra\")\n",
        "\n",
        "\n",
        "# Define dos variables que sean cursores\n",
        "var1= EsapñaCap(\"Madrid\")\n",
        "var2 = Esapñamon(\"euro\")\n",
        "var3 = Inglaterramon(\"libra\")\n",
        "\n",
        "\n",
        "# Comenta tus resultados\n",
        "#En esta sección se define de cada país (España e Inglaterra)la información como la capital, idioma y moneda.\n",
        "#A la hora que preguntesla variable responde por ejemplo la moneda de Esapña, la cual sería euro"
      ],
      "metadata": {
        "id": "5BYs6hyKIWYu"
      },
      "execution_count": 6,
      "outputs": []
    },
    {
      "cell_type": "code",
      "execution_count": 8,
      "metadata": {
        "id": "3d4VtN9D7FWB"
      },
      "outputs": [],
      "source": [
        "## Ejemplo de polimorfismo de clase y herencia.\n",
        "import math\n",
        "# Crea una clase madre que se llame Forma\n",
        "class Forma():\n",
        "    def __init__(self):\n",
        "        pass\n",
        "\n",
        "    def area(self):\n",
        "        pass\n",
        "\n",
        "    def perimetro(self):\n",
        "        pass\n",
        "\n",
        "class Circulo(Forma):\n",
        "    def __init__(self, radio):\n",
        "        self.radio = radio\n",
        "\n",
        "    def area(self):\n",
        "        return math.pi * self.radio ** 2\n",
        "\n",
        "    def perimetro(self):\n",
        "        return 2 * math.pi * self.radio\n",
        "\n",
        "\n",
        "class Cuadrado(Forma):\n",
        "    def __init__(self, lado):\n",
        "        self.lado = lado\n",
        "\n",
        "    def area(self):\n",
        "        return self.lado ** 2\n",
        "\n",
        "    def perimetro(self):\n",
        "        return 4 * self.lado\n",
        "# Crea dos clases heredadas de la clase madre Forma que calcule el área y el perímetro de un círculo\n",
        "# y de un cuadrado, respectivamente.\n",
        "\n",
        "\n",
        "\n"
      ]
    },
    {
      "cell_type": "code",
      "source": [
        "circulo = Circulo (2)\n",
        "cuadrado = Cuadrado (9)"
      ],
      "metadata": {
        "id": "uJ77NE0zQekm"
      },
      "execution_count": 9,
      "outputs": []
    },
    {
      "cell_type": "code",
      "source": [
        "circulo.area()"
      ],
      "metadata": {
        "colab": {
          "base_uri": "https://localhost:8080/"
        },
        "id": "kZiK6o89RONi",
        "outputId": "a8edaa8c-5751-4500-b640-6797c2a918a1"
      },
      "execution_count": 10,
      "outputs": [
        {
          "output_type": "execute_result",
          "data": {
            "text/plain": [
              "12.566370614359172"
            ]
          },
          "metadata": {},
          "execution_count": 10
        }
      ]
    },
    {
      "cell_type": "code",
      "source": [
        "circulo.perimetro()"
      ],
      "metadata": {
        "colab": {
          "base_uri": "https://localhost:8080/"
        },
        "id": "YacDul9MRRz-",
        "outputId": "1db7ce9a-bd3f-4050-a0e4-20c3abdcbade"
      },
      "execution_count": 11,
      "outputs": [
        {
          "output_type": "execute_result",
          "data": {
            "text/plain": [
              "12.566370614359172"
            ]
          },
          "metadata": {},
          "execution_count": 11
        }
      ]
    },
    {
      "cell_type": "code",
      "source": [
        "cuadrado.area()"
      ],
      "metadata": {
        "colab": {
          "base_uri": "https://localhost:8080/"
        },
        "id": "Ap1_9vOFRX1X",
        "outputId": "70c751ec-5532-4106-ef7f-61ea95cc5444"
      },
      "execution_count": 12,
      "outputs": [
        {
          "output_type": "execute_result",
          "data": {
            "text/plain": [
              "81"
            ]
          },
          "metadata": {},
          "execution_count": 12
        }
      ]
    },
    {
      "cell_type": "code",
      "source": [
        "cuadrado.perimetro()"
      ],
      "metadata": {
        "colab": {
          "base_uri": "https://localhost:8080/"
        },
        "id": "D2bkYC5hRbGy",
        "outputId": "f93eb561-149d-4302-c660-0ad4ddb06885"
      },
      "execution_count": 13,
      "outputs": [
        {
          "output_type": "execute_result",
          "data": {
            "text/plain": [
              "36"
            ]
          },
          "metadata": {},
          "execution_count": 13
        }
      ]
    }
  ]
}