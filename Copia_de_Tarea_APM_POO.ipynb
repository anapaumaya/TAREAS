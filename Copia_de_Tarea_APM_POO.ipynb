{
  "nbformat": 4,
  "nbformat_minor": 0,
  "metadata": {
    "colab": {
      "provenance": []
    },
    "kernelspec": {
      "name": "python3",
      "display_name": "Python 3"
    },
    "language_info": {
      "name": "python"
    }
  },
  "cells": [
    {
      "cell_type": "markdown",
      "source": [
        "## Tarea 1. Segunda parte."
      ],
      "metadata": {
        "id": "FZVEcQY_n4QG"
      }
    },
    {
      "cell_type": "markdown",
      "source": [
        "# Sección nueva"
      ],
      "metadata": {
        "id": "3cabsFt5aHQc"
      }
    },
    {
      "cell_type": "code",
      "source": [
        "from google.colab import drive\n",
        "drive.mount('/content/drive')"
      ],
      "metadata": {
        "colab": {
          "base_uri": "https://localhost:8080/"
        },
        "id": "hfrndwmoaLIR",
        "outputId": "f5d32a28-6f39-42d8-944c-728e47a8b39c"
      },
      "execution_count": null,
      "outputs": [
        {
          "output_type": "stream",
          "name": "stdout",
          "text": [
            "Mounted at /content/drive\n"
          ]
        }
      ]
    },
    {
      "cell_type": "code",
      "source": [
        "import pandas as pd\n",
        "d = pd.read_csv(\"/content/drive/MyDrive/PROGRAMACION/daily_returns.csv\", index_col=[0])\n",
        "d"
      ],
      "metadata": {
        "id": "RBDX5A7oalBJ",
        "colab": {
          "base_uri": "https://localhost:8080/",
          "height": 423
        },
        "outputId": "f7aedd24-52e7-4821-b384-7888ca184a0a"
      },
      "execution_count": null,
      "outputs": [
        {
          "output_type": "execute_result",
          "data": {
            "text/plain": [
              "                AAPL       JPM       WMT       TGT      MSFT      AMGN\n",
              "2000-01-03  0.088754 -0.061947 -0.033454 -0.018723 -0.001606  0.047867\n",
              "2000-01-04 -0.084310 -0.027444 -0.037418 -0.043365 -0.033780 -0.076465\n",
              "2000-01-05  0.014634 -0.006173 -0.020408 -0.022665  0.010544  0.034409\n",
              "2000-01-06 -0.086538  0.014197  0.010913 -0.047310 -0.033498  0.016632\n",
              "2000-01-07  0.047368  0.018373  0.075564  0.051607  0.013068  0.112474\n",
              "...              ...       ...       ...       ...       ...       ...\n",
              "2018-08-20 -0.009744 -0.001307 -0.018906  0.003372 -0.006600  0.000709\n",
              "2018-08-21 -0.001949  0.006107  0.000833 -0.000600 -0.008328 -0.001265\n",
              "2018-08-22  0.000047 -0.003035 -0.004267  0.032064  0.010191  0.002686\n",
              "2018-08-23  0.002046 -0.002087 -0.005122  0.008960  0.004670 -0.006268\n",
              "2018-08-24  0.003109 -0.000436 -0.002417  0.006920  0.007810  0.000203\n",
              "\n",
              "[4692 rows x 6 columns]"
            ],
            "text/html": [
              "\n",
              "  <div id=\"df-c4fe7ca7-840e-4ef9-b642-876706b8eabd\" class=\"colab-df-container\">\n",
              "    <div>\n",
              "<style scoped>\n",
              "    .dataframe tbody tr th:only-of-type {\n",
              "        vertical-align: middle;\n",
              "    }\n",
              "\n",
              "    .dataframe tbody tr th {\n",
              "        vertical-align: top;\n",
              "    }\n",
              "\n",
              "    .dataframe thead th {\n",
              "        text-align: right;\n",
              "    }\n",
              "</style>\n",
              "<table border=\"1\" class=\"dataframe\">\n",
              "  <thead>\n",
              "    <tr style=\"text-align: right;\">\n",
              "      <th></th>\n",
              "      <th>AAPL</th>\n",
              "      <th>JPM</th>\n",
              "      <th>WMT</th>\n",
              "      <th>TGT</th>\n",
              "      <th>MSFT</th>\n",
              "      <th>AMGN</th>\n",
              "    </tr>\n",
              "  </thead>\n",
              "  <tbody>\n",
              "    <tr>\n",
              "      <th>2000-01-03</th>\n",
              "      <td>0.088754</td>\n",
              "      <td>-0.061947</td>\n",
              "      <td>-0.033454</td>\n",
              "      <td>-0.018723</td>\n",
              "      <td>-0.001606</td>\n",
              "      <td>0.047867</td>\n",
              "    </tr>\n",
              "    <tr>\n",
              "      <th>2000-01-04</th>\n",
              "      <td>-0.084310</td>\n",
              "      <td>-0.027444</td>\n",
              "      <td>-0.037418</td>\n",
              "      <td>-0.043365</td>\n",
              "      <td>-0.033780</td>\n",
              "      <td>-0.076465</td>\n",
              "    </tr>\n",
              "    <tr>\n",
              "      <th>2000-01-05</th>\n",
              "      <td>0.014634</td>\n",
              "      <td>-0.006173</td>\n",
              "      <td>-0.020408</td>\n",
              "      <td>-0.022665</td>\n",
              "      <td>0.010544</td>\n",
              "      <td>0.034409</td>\n",
              "    </tr>\n",
              "    <tr>\n",
              "      <th>2000-01-06</th>\n",
              "      <td>-0.086538</td>\n",
              "      <td>0.014197</td>\n",
              "      <td>0.010913</td>\n",
              "      <td>-0.047310</td>\n",
              "      <td>-0.033498</td>\n",
              "      <td>0.016632</td>\n",
              "    </tr>\n",
              "    <tr>\n",
              "      <th>2000-01-07</th>\n",
              "      <td>0.047368</td>\n",
              "      <td>0.018373</td>\n",
              "      <td>0.075564</td>\n",
              "      <td>0.051607</td>\n",
              "      <td>0.013068</td>\n",
              "      <td>0.112474</td>\n",
              "    </tr>\n",
              "    <tr>\n",
              "      <th>...</th>\n",
              "      <td>...</td>\n",
              "      <td>...</td>\n",
              "      <td>...</td>\n",
              "      <td>...</td>\n",
              "      <td>...</td>\n",
              "      <td>...</td>\n",
              "    </tr>\n",
              "    <tr>\n",
              "      <th>2018-08-20</th>\n",
              "      <td>-0.009744</td>\n",
              "      <td>-0.001307</td>\n",
              "      <td>-0.018906</td>\n",
              "      <td>0.003372</td>\n",
              "      <td>-0.006600</td>\n",
              "      <td>0.000709</td>\n",
              "    </tr>\n",
              "    <tr>\n",
              "      <th>2018-08-21</th>\n",
              "      <td>-0.001949</td>\n",
              "      <td>0.006107</td>\n",
              "      <td>0.000833</td>\n",
              "      <td>-0.000600</td>\n",
              "      <td>-0.008328</td>\n",
              "      <td>-0.001265</td>\n",
              "    </tr>\n",
              "    <tr>\n",
              "      <th>2018-08-22</th>\n",
              "      <td>0.000047</td>\n",
              "      <td>-0.003035</td>\n",
              "      <td>-0.004267</td>\n",
              "      <td>0.032064</td>\n",
              "      <td>0.010191</td>\n",
              "      <td>0.002686</td>\n",
              "    </tr>\n",
              "    <tr>\n",
              "      <th>2018-08-23</th>\n",
              "      <td>0.002046</td>\n",
              "      <td>-0.002087</td>\n",
              "      <td>-0.005122</td>\n",
              "      <td>0.008960</td>\n",
              "      <td>0.004670</td>\n",
              "      <td>-0.006268</td>\n",
              "    </tr>\n",
              "    <tr>\n",
              "      <th>2018-08-24</th>\n",
              "      <td>0.003109</td>\n",
              "      <td>-0.000436</td>\n",
              "      <td>-0.002417</td>\n",
              "      <td>0.006920</td>\n",
              "      <td>0.007810</td>\n",
              "      <td>0.000203</td>\n",
              "    </tr>\n",
              "  </tbody>\n",
              "</table>\n",
              "<p>4692 rows × 6 columns</p>\n",
              "</div>\n",
              "    <div class=\"colab-df-buttons\">\n",
              "\n",
              "  <div class=\"colab-df-container\">\n",
              "    <button class=\"colab-df-convert\" onclick=\"convertToInteractive('df-c4fe7ca7-840e-4ef9-b642-876706b8eabd')\"\n",
              "            title=\"Convert this dataframe to an interactive table.\"\n",
              "            style=\"display:none;\">\n",
              "\n",
              "  <svg xmlns=\"http://www.w3.org/2000/svg\" height=\"24px\" viewBox=\"0 -960 960 960\">\n",
              "    <path d=\"M120-120v-720h720v720H120Zm60-500h600v-160H180v160Zm220 220h160v-160H400v160Zm0 220h160v-160H400v160ZM180-400h160v-160H180v160Zm440 0h160v-160H620v160ZM180-180h160v-160H180v160Zm440 0h160v-160H620v160Z\"/>\n",
              "  </svg>\n",
              "    </button>\n",
              "\n",
              "  <style>\n",
              "    .colab-df-container {\n",
              "      display:flex;\n",
              "      gap: 12px;\n",
              "    }\n",
              "\n",
              "    .colab-df-convert {\n",
              "      background-color: #E8F0FE;\n",
              "      border: none;\n",
              "      border-radius: 50%;\n",
              "      cursor: pointer;\n",
              "      display: none;\n",
              "      fill: #1967D2;\n",
              "      height: 32px;\n",
              "      padding: 0 0 0 0;\n",
              "      width: 32px;\n",
              "    }\n",
              "\n",
              "    .colab-df-convert:hover {\n",
              "      background-color: #E2EBFA;\n",
              "      box-shadow: 0px 1px 2px rgba(60, 64, 67, 0.3), 0px 1px 3px 1px rgba(60, 64, 67, 0.15);\n",
              "      fill: #174EA6;\n",
              "    }\n",
              "\n",
              "    .colab-df-buttons div {\n",
              "      margin-bottom: 4px;\n",
              "    }\n",
              "\n",
              "    [theme=dark] .colab-df-convert {\n",
              "      background-color: #3B4455;\n",
              "      fill: #D2E3FC;\n",
              "    }\n",
              "\n",
              "    [theme=dark] .colab-df-convert:hover {\n",
              "      background-color: #434B5C;\n",
              "      box-shadow: 0px 1px 3px 1px rgba(0, 0, 0, 0.15);\n",
              "      filter: drop-shadow(0px 1px 2px rgba(0, 0, 0, 0.3));\n",
              "      fill: #FFFFFF;\n",
              "    }\n",
              "  </style>\n",
              "\n",
              "    <script>\n",
              "      const buttonEl =\n",
              "        document.querySelector('#df-c4fe7ca7-840e-4ef9-b642-876706b8eabd button.colab-df-convert');\n",
              "      buttonEl.style.display =\n",
              "        google.colab.kernel.accessAllowed ? 'block' : 'none';\n",
              "\n",
              "      async function convertToInteractive(key) {\n",
              "        const element = document.querySelector('#df-c4fe7ca7-840e-4ef9-b642-876706b8eabd');\n",
              "        const dataTable =\n",
              "          await google.colab.kernel.invokeFunction('convertToInteractive',\n",
              "                                                    [key], {});\n",
              "        if (!dataTable) return;\n",
              "\n",
              "        const docLinkHtml = 'Like what you see? Visit the ' +\n",
              "          '<a target=\"_blank\" href=https://colab.research.google.com/notebooks/data_table.ipynb>data table notebook</a>'\n",
              "          + ' to learn more about interactive tables.';\n",
              "        element.innerHTML = '';\n",
              "        dataTable['output_type'] = 'display_data';\n",
              "        await google.colab.output.renderOutput(dataTable, element);\n",
              "        const docLink = document.createElement('div');\n",
              "        docLink.innerHTML = docLinkHtml;\n",
              "        element.appendChild(docLink);\n",
              "      }\n",
              "    </script>\n",
              "  </div>\n",
              "\n",
              "\n",
              "<div id=\"df-49a29f62-42f8-445d-9ee2-5b35c0b90ce5\">\n",
              "  <button class=\"colab-df-quickchart\" onclick=\"quickchart('df-49a29f62-42f8-445d-9ee2-5b35c0b90ce5')\"\n",
              "            title=\"Suggest charts.\"\n",
              "            style=\"display:none;\">\n",
              "\n",
              "<svg xmlns=\"http://www.w3.org/2000/svg\" height=\"24px\"viewBox=\"0 0 24 24\"\n",
              "     width=\"24px\">\n",
              "    <g>\n",
              "        <path d=\"M19 3H5c-1.1 0-2 .9-2 2v14c0 1.1.9 2 2 2h14c1.1 0 2-.9 2-2V5c0-1.1-.9-2-2-2zM9 17H7v-7h2v7zm4 0h-2V7h2v10zm4 0h-2v-4h2v4z\"/>\n",
              "    </g>\n",
              "</svg>\n",
              "  </button>\n",
              "\n",
              "<style>\n",
              "  .colab-df-quickchart {\n",
              "      --bg-color: #E8F0FE;\n",
              "      --fill-color: #1967D2;\n",
              "      --hover-bg-color: #E2EBFA;\n",
              "      --hover-fill-color: #174EA6;\n",
              "      --disabled-fill-color: #AAA;\n",
              "      --disabled-bg-color: #DDD;\n",
              "  }\n",
              "\n",
              "  [theme=dark] .colab-df-quickchart {\n",
              "      --bg-color: #3B4455;\n",
              "      --fill-color: #D2E3FC;\n",
              "      --hover-bg-color: #434B5C;\n",
              "      --hover-fill-color: #FFFFFF;\n",
              "      --disabled-bg-color: #3B4455;\n",
              "      --disabled-fill-color: #666;\n",
              "  }\n",
              "\n",
              "  .colab-df-quickchart {\n",
              "    background-color: var(--bg-color);\n",
              "    border: none;\n",
              "    border-radius: 50%;\n",
              "    cursor: pointer;\n",
              "    display: none;\n",
              "    fill: var(--fill-color);\n",
              "    height: 32px;\n",
              "    padding: 0;\n",
              "    width: 32px;\n",
              "  }\n",
              "\n",
              "  .colab-df-quickchart:hover {\n",
              "    background-color: var(--hover-bg-color);\n",
              "    box-shadow: 0 1px 2px rgba(60, 64, 67, 0.3), 0 1px 3px 1px rgba(60, 64, 67, 0.15);\n",
              "    fill: var(--button-hover-fill-color);\n",
              "  }\n",
              "\n",
              "  .colab-df-quickchart-complete:disabled,\n",
              "  .colab-df-quickchart-complete:disabled:hover {\n",
              "    background-color: var(--disabled-bg-color);\n",
              "    fill: var(--disabled-fill-color);\n",
              "    box-shadow: none;\n",
              "  }\n",
              "\n",
              "  .colab-df-spinner {\n",
              "    border: 2px solid var(--fill-color);\n",
              "    border-color: transparent;\n",
              "    border-bottom-color: var(--fill-color);\n",
              "    animation:\n",
              "      spin 1s steps(1) infinite;\n",
              "  }\n",
              "\n",
              "  @keyframes spin {\n",
              "    0% {\n",
              "      border-color: transparent;\n",
              "      border-bottom-color: var(--fill-color);\n",
              "      border-left-color: var(--fill-color);\n",
              "    }\n",
              "    20% {\n",
              "      border-color: transparent;\n",
              "      border-left-color: var(--fill-color);\n",
              "      border-top-color: var(--fill-color);\n",
              "    }\n",
              "    30% {\n",
              "      border-color: transparent;\n",
              "      border-left-color: var(--fill-color);\n",
              "      border-top-color: var(--fill-color);\n",
              "      border-right-color: var(--fill-color);\n",
              "    }\n",
              "    40% {\n",
              "      border-color: transparent;\n",
              "      border-right-color: var(--fill-color);\n",
              "      border-top-color: var(--fill-color);\n",
              "    }\n",
              "    60% {\n",
              "      border-color: transparent;\n",
              "      border-right-color: var(--fill-color);\n",
              "    }\n",
              "    80% {\n",
              "      border-color: transparent;\n",
              "      border-right-color: var(--fill-color);\n",
              "      border-bottom-color: var(--fill-color);\n",
              "    }\n",
              "    90% {\n",
              "      border-color: transparent;\n",
              "      border-bottom-color: var(--fill-color);\n",
              "    }\n",
              "  }\n",
              "</style>\n",
              "\n",
              "  <script>\n",
              "    async function quickchart(key) {\n",
              "      const quickchartButtonEl =\n",
              "        document.querySelector('#' + key + ' button');\n",
              "      quickchartButtonEl.disabled = true;  // To prevent multiple clicks.\n",
              "      quickchartButtonEl.classList.add('colab-df-spinner');\n",
              "      try {\n",
              "        const charts = await google.colab.kernel.invokeFunction(\n",
              "            'suggestCharts', [key], {});\n",
              "      } catch (error) {\n",
              "        console.error('Error during call to suggestCharts:', error);\n",
              "      }\n",
              "      quickchartButtonEl.classList.remove('colab-df-spinner');\n",
              "      quickchartButtonEl.classList.add('colab-df-quickchart-complete');\n",
              "    }\n",
              "    (() => {\n",
              "      let quickchartButtonEl =\n",
              "        document.querySelector('#df-49a29f62-42f8-445d-9ee2-5b35c0b90ce5 button');\n",
              "      quickchartButtonEl.style.display =\n",
              "        google.colab.kernel.accessAllowed ? 'block' : 'none';\n",
              "    })();\n",
              "  </script>\n",
              "</div>\n",
              "    </div>\n",
              "  </div>\n"
            ]
          },
          "metadata": {},
          "execution_count": 31
        }
      ]
    },
    {
      "cell_type": "code",
      "source": [
        "def media(x):\n",
        "  y = x-x.mean()\n",
        "  return y"
      ],
      "metadata": {
        "id": "5CDEz0hAvM5x"
      },
      "execution_count": null,
      "outputs": []
    },
    {
      "cell_type": "code",
      "source": [
        "columna_AAPL = d['AAPL']\n",
        "\n",
        "columna_AAPL"
      ],
      "metadata": {
        "colab": {
          "base_uri": "https://localhost:8080/"
        },
        "id": "QXSw3KCCvbzd",
        "outputId": "44be8a0c-226f-431d-d6a5-c39e6279a109"
      },
      "execution_count": null,
      "outputs": [
        {
          "output_type": "execute_result",
          "data": {
            "text/plain": [
              "2000-01-03    0.088754\n",
              "2000-01-04   -0.084310\n",
              "2000-01-05    0.014634\n",
              "2000-01-06   -0.086538\n",
              "2000-01-07    0.047368\n",
              "                ...   \n",
              "2018-08-20   -0.009744\n",
              "2018-08-21   -0.001949\n",
              "2018-08-22    0.000047\n",
              "2018-08-23    0.002046\n",
              "2018-08-24    0.003109\n",
              "Name: AAPL, Length: 4692, dtype: float64"
            ]
          },
          "metadata": {},
          "execution_count": 33
        }
      ]
    },
    {
      "cell_type": "code",
      "source": [
        "media(columna_AAPL)"
      ],
      "metadata": {
        "colab": {
          "base_uri": "https://localhost:8080/"
        },
        "id": "F0P6IFwrvk2Z",
        "outputId": "2de6bb81-d2a7-433c-87c4-698fbe970373"
      },
      "execution_count": null,
      "outputs": [
        {
          "output_type": "execute_result",
          "data": {
            "text/plain": [
              "2000-01-03    0.087534\n",
              "2000-01-04   -0.085530\n",
              "2000-01-05    0.013414\n",
              "2000-01-06   -0.087758\n",
              "2000-01-07    0.046149\n",
              "                ...   \n",
              "2018-08-20   -0.010963\n",
              "2018-08-21   -0.003169\n",
              "2018-08-22   -0.001173\n",
              "2018-08-23    0.000826\n",
              "2018-08-24    0.001890\n",
              "Name: AAPL, Length: 4692, dtype: float64"
            ]
          },
          "metadata": {},
          "execution_count": 34
        }
      ]
    },
    {
      "cell_type": "code",
      "source": [
        "def varianza(x):\n",
        "  y= x-x.mean()\n",
        "  return y"
      ],
      "metadata": {
        "id": "3LnUUPAXz5lb"
      },
      "execution_count": null,
      "outputs": []
    },
    {
      "cell_type": "code",
      "source": [
        "columna_AAPL =d['AAPL']\n",
        "\n",
        "columna_AAPL"
      ],
      "metadata": {
        "colab": {
          "base_uri": "https://localhost:8080/"
        },
        "id": "tEcDP0Jt0OFk",
        "outputId": "061c1c6d-f13b-4af4-862e-e4c2eb5cba02"
      },
      "execution_count": null,
      "outputs": [
        {
          "output_type": "execute_result",
          "data": {
            "text/plain": [
              "2000-01-03    0.088754\n",
              "2000-01-04   -0.084310\n",
              "2000-01-05    0.014634\n",
              "2000-01-06   -0.086538\n",
              "2000-01-07    0.047368\n",
              "                ...   \n",
              "2018-08-20   -0.009744\n",
              "2018-08-21   -0.001949\n",
              "2018-08-22    0.000047\n",
              "2018-08-23    0.002046\n",
              "2018-08-24    0.003109\n",
              "Name: AAPL, Length: 4692, dtype: float64"
            ]
          },
          "metadata": {},
          "execution_count": 45
        }
      ]
    },
    {
      "cell_type": "code",
      "source": [
        "d['AAPL']-columna_AAPL.mean()"
      ],
      "metadata": {
        "colab": {
          "base_uri": "https://localhost:8080/"
        },
        "id": "_y8YAQX03FOe",
        "outputId": "fc9a0dc6-6667-4400-cd67-afa8240a576f"
      },
      "execution_count": null,
      "outputs": [
        {
          "output_type": "execute_result",
          "data": {
            "text/plain": [
              "2000-01-03    0.087534\n",
              "2000-01-04   -0.085530\n",
              "2000-01-05    0.013414\n",
              "2000-01-06   -0.087758\n",
              "2000-01-07    0.046149\n",
              "                ...   \n",
              "2018-08-20   -0.010963\n",
              "2018-08-21   -0.003169\n",
              "2018-08-22   -0.001173\n",
              "2018-08-23    0.000826\n",
              "2018-08-24    0.001890\n",
              "Name: AAPL, Length: 4692, dtype: float64"
            ]
          },
          "metadata": {},
          "execution_count": 42
        }
      ]
    },
    {
      "cell_type": "code",
      "source": [
        "def transform_column(column):\n",
        "  mean=column.mean()\n",
        "  column= column - mean\n",
        "  std_dev=column.std()\n",
        "  column=column /std_dev\n",
        "  return column"
      ],
      "metadata": {
        "id": "yTScxeQR3_ff"
      },
      "execution_count": null,
      "outputs": []
    },
    {
      "cell_type": "code",
      "source": [
        "d[\"JPM\"]=transform_column(d['JPM'])\n",
        "d[\"JPM\"]"
      ],
      "metadata": {
        "colab": {
          "base_uri": "https://localhost:8080/"
        },
        "id": "j-BIZ6z_Q_NC",
        "outputId": "70f6876c-e26e-48c8-d7ff-a5bd42775759"
      },
      "execution_count": null,
      "outputs": [
        {
          "output_type": "execute_result",
          "data": {
            "text/plain": [
              "2000-01-03   -2.507045\n",
              "2000-01-04   -1.121349\n",
              "2000-01-05   -0.267050\n",
              "2000-01-06    0.551044\n",
              "2000-01-07    0.718747\n",
              "                ...   \n",
              "2018-08-20   -0.071624\n",
              "2018-08-21    0.226138\n",
              "2018-08-22   -0.141028\n",
              "2018-08-23   -0.102973\n",
              "2018-08-24   -0.036640\n",
              "Name: JPM, Length: 4692, dtype: float64"
            ]
          },
          "metadata": {},
          "execution_count": 47
        }
      ]
    },
    {
      "cell_type": "code",
      "source": [
        "d[\"WMT\"]= transform_column(d['WMT'])\n",
        "d[\"WMT\"]"
      ],
      "metadata": {
        "colab": {
          "base_uri": "https://localhost:8080/"
        },
        "id": "O8H04_SDRx8j",
        "outputId": "476826b3-829c-4c78-fe53-7e1b3195e7ba"
      },
      "execution_count": null,
      "outputs": [
        {
          "output_type": "execute_result",
          "data": {
            "text/plain": [
              "2000-01-03   -2.224458\n",
              "2000-01-04   -2.486630\n",
              "2000-01-05   -1.361691\n",
              "2000-01-06    0.709684\n",
              "2000-01-07    4.985353\n",
              "                ...   \n",
              "2018-08-20   -1.262379\n",
              "2018-08-21    0.043096\n",
              "2018-08-22   -0.294232\n",
              "2018-08-23   -0.350739\n",
              "2018-08-24   -0.171831\n",
              "Name: WMT, Length: 4692, dtype: float64"
            ]
          },
          "metadata": {},
          "execution_count": 50
        }
      ]
    },
    {
      "cell_type": "code",
      "source": [
        "d[\"TGT\"]=transform_column(d['TGT'])\n",
        "d[\"TGT\"]"
      ],
      "metadata": {
        "colab": {
          "base_uri": "https://localhost:8080/"
        },
        "id": "uE_dOxT9U_j6",
        "outputId": "61a1e09d-5e08-4582-dbf1-2083b50a2617"
      },
      "execution_count": null,
      "outputs": [
        {
          "output_type": "execute_result",
          "data": {
            "text/plain": [
              "2000-01-03   -0.941238\n",
              "2000-01-04   -2.154687\n",
              "2000-01-05   -1.135359\n",
              "2000-01-06   -2.348938\n",
              "2000-01-07    2.522070\n",
              "                ...   \n",
              "2018-08-20    0.146813\n",
              "2018-08-21   -0.048782\n",
              "2018-08-22    1.559741\n",
              "2018-08-23    0.421979\n",
              "2018-08-24    0.321517\n",
              "Name: TGT, Length: 4692, dtype: float64"
            ]
          },
          "metadata": {},
          "execution_count": 51
        }
      ]
    },
    {
      "cell_type": "code",
      "source": [
        "d[\"MSFT\"]= transform_column(d['MSFT'])\n",
        "d[\"MSFT\"]"
      ],
      "metadata": {
        "colab": {
          "base_uri": "https://localhost:8080/"
        },
        "id": "IB59eiwkVRi9",
        "outputId": "d524c816-3bb6-4c29-f038-db3634ab592d"
      },
      "execution_count": null,
      "outputs": [
        {
          "output_type": "execute_result",
          "data": {
            "text/plain": [
              "2000-01-03   -0.099823\n",
              "2000-01-04   -1.769649\n",
              "2000-01-05    0.530749\n",
              "2000-01-06   -1.755009\n",
              "2000-01-07    0.661761\n",
              "                ...   \n",
              "2018-08-20   -0.358996\n",
              "2018-08-21   -0.448685\n",
              "2018-08-22    0.512413\n",
              "2018-08-23    0.225913\n",
              "2018-08-24    0.388845\n",
              "Name: MSFT, Length: 4692, dtype: float64"
            ]
          },
          "metadata": {},
          "execution_count": 52
        }
      ]
    },
    {
      "cell_type": "code",
      "source": [
        "d[\"AMGN\"]= transform_column(d['AMGN'])\n",
        "d[\"AMGN\"]"
      ],
      "metadata": {
        "colab": {
          "base_uri": "https://localhost:8080/"
        },
        "id": "N-1aJycOVhkL",
        "outputId": "2e167b6c-e351-4a4a-bbb6-e7c547f1d269"
      },
      "execution_count": null,
      "outputs": [
        {
          "output_type": "execute_result",
          "data": {
            "text/plain": [
              "2000-01-03    2.333518\n",
              "2000-01-04   -3.786244\n",
              "2000-01-05    1.671088\n",
              "2000-01-06    0.796101\n",
              "2000-01-07    5.513591\n",
              "                ...   \n",
              "2018-08-20    0.012356\n",
              "2018-08-21   -0.084835\n",
              "2018-08-22    0.109666\n",
              "2018-08-23   -0.331050\n",
              "2018-08-24   -0.012536\n",
              "Name: AMGN, Length: 4692, dtype: float64"
            ]
          },
          "metadata": {},
          "execution_count": 54
        }
      ]
    },
    {
      "cell_type": "code",
      "source": [
        "d[\"AAPL\"].plot(label=\"AAPL\")"
      ],
      "metadata": {
        "colab": {
          "base_uri": "https://localhost:8080/",
          "height": 447
        },
        "id": "MRDw2go1WCsJ",
        "outputId": "9d86d3b5-8da5-4f56-a683-e7472efaf4a7"
      },
      "execution_count": null,
      "outputs": [
        {
          "output_type": "execute_result",
          "data": {
            "text/plain": [
              "<Axes: >"
            ]
          },
          "metadata": {},
          "execution_count": 55
        },
        {
          "output_type": "display_data",
          "data": {
            "text/plain": [
              "<Figure size 640x480 with 1 Axes>"
            ],
            "image/png": "[encoded data removed]"
          },
          "metadata": {}
        }
      ]
    },
    {
      "cell_type": "markdown",
      "source": [
        "## Parte A\n",
        "\n",
        "1.   En Moodle, se encuentra un archivo llamada `daily_returns.csv`. Monta el archivo en tu Drive y da lectura en un panel de datos.\n",
        "2. Cambia la columna `Unnamed: 0` y ponla como índice.\n",
        "3. Calcula la media y varianza de cada ticker.\n",
        "4. Usando una definición a través de la función `def`, realiza la siguiente transformación sobre los valores de la columna de **AAPL**:  Toma la media de la columna y resta a cada dato de la serie, su media. Después, a cada valor resultante de la columna, divide entre la desviación estándar.\n",
        "5. Usando tu definición, realiza lo mismo para los otros tickers.\n",
        "6. Realiza la gráfica de la serie de tiempo tomando alguna columna. ¿Cuáles son tus observaciones iniciales?\n",
        "7. Realiza un análisis descriptivo de la base de datos resultante.\n",
        "\n",
        "## Parte B\n",
        "\n",
        "1. Crea definiciones que calculen el área de un círculo y el área de un rectángulo, respectivamente.\n",
        "\n",
        "2. Crea una definición que calcule la raíz cuadrada de un número.\n",
        "\n",
        "3. Crea una lista que contenga 20 números enteros que eliges de manera aleatoria en el intervalo $[0, 100]$ (incluyendo el $0$ y el $100$).\n",
        "\n",
        "4. Usa el punto 2. para calcular la raíz cuadrada de cada elemento de la lista del punto 3.\n",
        "\n",
        "5. Crea un conjunto cuyos elementos sean aquellos enteros de tu lista del punto 3. y cuya raíz cuadrada te da un entero.\n"
      ],
      "metadata": {
        "id": "HHLP0ZpvonNY"
      }
    },
    {
      "cell_type": "markdown",
      "source": [
        "# Sección nueva"
      ],
      "metadata": {
        "id": "oeC30g9stbNE"
      }
    },
    {
      "cell_type": "code",
      "source": [
        "def ac(r):\n",
        "  x=3.1416*r**2\n",
        "  return x"
      ],
      "metadata": {
        "id": "Jq0e4Nlt0_TX"
      },
      "execution_count": null,
      "outputs": []
    },
    {
      "cell_type": "code",
      "source": [
        "ac(7)"
      ],
      "metadata": {
        "id": "k8vbwb2n34bN",
        "colab": {
          "base_uri": "https://localhost:8080/"
        },
        "outputId": "fcca2ef5-ca39-4d42-8e24-175a50bc3781"
      },
      "execution_count": null,
      "outputs": [
        {
          "output_type": "execute_result",
          "data": {
            "text/plain": [
              "153.9384"
            ]
          },
          "metadata": {},
          "execution_count": 59
        }
      ]
    },
    {
      "cell_type": "code",
      "source": [
        "def ar(b,a):\n",
        "  x=b*a\n",
        "  return x"
      ],
      "metadata": {
        "id": "DW_10Lm6XB-i"
      },
      "execution_count": null,
      "outputs": []
    },
    {
      "cell_type": "code",
      "source": [
        "ar(4,3)"
      ],
      "metadata": {
        "id": "5blSjoLcXIgn",
        "colab": {
          "base_uri": "https://localhost:8080/"
        },
        "outputId": "1ba86cce-c8f1-44d3-86ce-c80b06325709"
      },
      "execution_count": null,
      "outputs": [
        {
          "output_type": "execute_result",
          "data": {
            "text/plain": [
              "12"
            ]
          },
          "metadata": {},
          "execution_count": 61
        }
      ]
    },
    {
      "cell_type": "code",
      "source": [
        "#Ejercicio 2\n",
        "def raiz (n):\n",
        "  x=n**0.5\n",
        "  return x"
      ],
      "metadata": {
        "id": "jfq0lxVfXO_j"
      },
      "execution_count": null,
      "outputs": []
    },
    {
      "cell_type": "code",
      "source": [
        "raiz(8)"
      ],
      "metadata": {
        "id": "hEAMe7a4XZ2U",
        "colab": {
          "base_uri": "https://localhost:8080/"
        },
        "outputId": "3c3bf290-ee99-4fb9-a653-1d20b611ec2c"
      },
      "execution_count": null,
      "outputs": [
        {
          "output_type": "execute_result",
          "data": {
            "text/plain": [
              "2.8284271247461903"
            ]
          },
          "metadata": {},
          "execution_count": 63
        }
      ]
    },
    {
      "cell_type": "code",
      "source": [
        "import numpy as np\n",
        "listal=np.random.randint(low=0, high=100, size=20)\n",
        "listal"
      ],
      "metadata": {
        "id": "HWp7s4l1XcZG",
        "colab": {
          "base_uri": "https://localhost:8080/"
        },
        "outputId": "0eaaa558-5bea-4808-c925-c1a1efb180bb"
      },
      "execution_count": null,
      "outputs": [
        {
          "output_type": "execute_result",
          "data": {
            "text/plain": [
              "array([34,  1, 25, 19, 69, 14, 77,  7,  3, 31, 94, 22, 11, 36, 72, 97, 93,\n",
              "       33, 73, 53])"
            ]
          },
          "metadata": {},
          "execution_count": 64
        }
      ]
    },
    {
      "cell_type": "code",
      "source": [
        "raices=raiz(listal)\n",
        "raices"
      ],
      "metadata": {
        "id": "pLtXr0LKXwg-"
      },
      "execution_count": null,
      "outputs": []
    },
    {
      "cell_type": "code",
      "source": [
        "import numpy as np\n",
        "for maya in raices:\n",
        "  if maya == int:\n",
        "    print(maya)\n",
        "else(\"No hay enteros\")"
      ],
      "metadata": {
        "id": "iaiSMz-PX_0c"
      },
      "execution_count": null,
      "outputs": []
    }
  ]
}